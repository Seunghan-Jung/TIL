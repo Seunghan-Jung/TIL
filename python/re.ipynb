{
 "metadata": {
  "language_info": {
   "codemirror_mode": {
    "name": "ipython",
    "version": 3
   },
   "file_extension": ".py",
   "mimetype": "text/x-python",
   "name": "python",
   "nbconvert_exporter": "python",
   "pygments_lexer": "ipython3",
   "version": "3.8.3-final"
  },
  "orig_nbformat": 2,
  "kernelspec": {
   "name": "python_defaultSpec_1599367419486",
   "display_name": "Python 3.8.3 64-bit ('base': conda)"
  }
 },
 "nbformat": 4,
 "nbformat_minor": 2,
 "cells": [
  {
   "cell_type": "markdown",
   "metadata": {},
   "source": [
    "# re 모듈\n",
    "\n",
    "re 모듈은 python의 정규표현식을 연산하기 위한 모듈이다.\n",
    "\n"
   ]
  },
  {
   "cell_type": "markdown",
   "metadata": {},
   "source": [
    "## Functions\n"
   ]
  },
  {
   "cell_type": "markdown",
   "metadata": {},
   "source": [
    "### re.compile(patter, flag=0)\n",
    "\n",
    "정규식 객체를 생성"
   ]
  },
  {
   "cell_type": "code",
   "execution_count": 6,
   "metadata": {},
   "outputs": [
    {
     "output_type": "execute_result",
     "data": {
      "text/plain": "['안녕하세요', '반갑습니다.']"
     },
     "metadata": {},
     "execution_count": 6
    }
   ],
   "source": [
    "import re\n",
    "\n",
    "r = re.compile('^.+', re.MULTILINE)\n",
    "r.findall('안녕하세요\\n반갑습니다.')"
   ]
  },
  {
   "cell_type": "markdown",
   "metadata": {},
   "source": [
    "## 정규식 특수 문자\n",
    "\n",
    "1. `.` : 개행문자를 제외한 모든 문자와 매칭\n",
    "2. `^` : 문자열의 시작 또는 멀티라인의 각 라인의 처음\n",
    "3. `$` : 문자열의 끝 또는 멀티라인의 각 라인의 끝\n",
    "4. `*` : 0개 이상의 문자와 일치"
   ]
  },
  {
   "cell_type": "markdown",
   "metadata": {},
   "source": [
    "### 1) `.` Dot\n",
    "\n",
    "개행(`\\n`)을 제외한 모든 문자와 일치"
   ]
  },
  {
   "cell_type": "code",
   "execution_count": 1,
   "metadata": {},
   "outputs": [
    {
     "output_type": "execute_result",
     "data": {
      "text/plain": "['i', 'm', 'p', 'o', 'r', 't', '1', '2', '3', '4', ',', '-', '1', '2', '3']"
     },
     "metadata": {},
     "execution_count": 1
    }
   ],
   "source": [
    "import re\n",
    "\n",
    "string = 'import1234,-123'\n",
    "re.findall('.', string)"
   ]
  },
  {
   "cell_type": "markdown",
   "metadata": {},
   "source": [
    "### 2) `^` caret\n",
    "\n",
    "문자열의 시작과 매칭된다.\n",
    "\n",
    "`re.MULTILINE` 모드에서 각 줄 바꿈 직후와도 매칭된다."
   ]
  },
  {
   "cell_type": "code",
   "execution_count": 7,
   "metadata": {
    "tags": []
   },
   "outputs": [
    {
     "output_type": "execute_result",
     "data": {
      "text/plain": "'Hi\\nHello\\nBye, Bye'"
     },
     "metadata": {},
     "execution_count": 7
    }
   ],
   "source": [
    "import re\n",
    "\n",
    "string = 'Hi\\nHello\\nBye, Bye'\n",
    "re.match('^', string).string\n",
    "# re.findall('^.+', string, re.MULTILINE)"
   ]
  },
  {
   "cell_type": "markdown",
   "metadata": {},
   "source": [
    "### 3) `[]` 문자 클래스\n",
    "\n",
    "문자 집합을 나타낸다. [] 괄호 사이의 문자들과 매치된다.\n",
    "\n",
    "- `[amk]`: 'a', 'm', 'k' 중 하나와 일치\n",
    "- `[a-z]`: 알파벳 소문자들 중 하나와 일치\n",
    "- `[a-zA-Z]`: 알파벳 중 하나와 일치\n",
    "- `[0-9]`: 숫자들 중 하나와 일치\n",
    "- `[^5]`: '5'를 제외한 나머지 문자와 일치\n",
    "\n",
    "#### 자주 사용하는 문자 클래스\n",
    "\n",
    "자주 사용되는 문자 클래스들은 별도의 표기법이 있다.\n",
    "\n",
    "- `\\d`: `[0-9]`와 동일\n",
    "- `\\D`: `[^0-9]`와 동일\n",
    "- `\\s`: whitespace 문자와 매치, `[ \\t\\n\\r\\f\\v]`와 동일한 표현식이다.(맨 앞의 빈 칸은 공백문자를 의미한다.)\n",
    "- `\\S`: whitespace 문자가 아닌 것과 매치, `[^ \\t\\n\\r\\f\\v]`와 동일\n",
    "- `\\w`: 문자+숫자와 매치, `[a-zA-Z0-9_]와 동일\n",
    "\n"
   ]
  },
  {
   "cell_type": "markdown",
   "metadata": {},
   "source": [
    "### 반복 관련\n",
    "\n",
    "`*` : 0개 이상의 문자와 일치. 와일드 카드 문자와 동일한 기능\n",
    "\n",
    "`+` : 1개 이상의 문자와 일치.\n",
    "\n",
    "`?` : 0개 또는 1개의 문자와 일치. 즉, 있어도 되고 없어도 된다는 의미.\n",
    "\n",
    "`{m, n}`: m개 이상, n개 이하의 문자와 일치. `{0,}`은 `*`과 동일, `{1,}`은 `+`와 동일, `{0, 1}`은 `?`와 동일."
   ]
  },
  {
   "cell_type": "code",
   "execution_count": 18,
   "metadata": {
    "tags": []
   },
   "outputs": [
    {
     "output_type": "stream",
     "name": "stdout",
     "text": "['1', '', '', '1111', '', '', '11', '', '', '1', '']\n['1', '1111', '11', '1']\n['1', '', '', '1', '1', '1', '1', '', '', '1', '1', '', '', '1', '']\n['1', '111', '1', '11', '1']\n['1', '', '', '1111', '', '', '11', '', '', '1', '']\n['1', '1111', '11', '1']\n"
    }
   ],
   "source": [
    "import re\n",
    "\n",
    "string = '12311113211431'\n",
    "print(re.findall('1*', string))\n",
    "print(re.findall('1+', string))\n",
    "print(re.findall('1?', string))\n",
    "print(re.findall('1{1,3}', string))\n",
    "print(re.findall('1{0,}', string))\n",
    "print(re.findall('1{1,}', string))\n"
   ]
  },
  {
   "cell_type": "markdown",
   "metadata": {},
   "source": [
    "### {}\n",
    "\n",
    "1개 이상의 문자와 일치."
   ]
  },
  {
   "cell_type": "code",
   "execution_count": null,
   "metadata": {},
   "outputs": [],
   "source": [
    "import re\n"
   ]
  },
  {
   "cell_type": "markdown",
   "metadata": {},
   "source": [
    "## 옵션들\n",
    "\n",
    "1. `re.MULTILINE`: `^`과 `$`가 각 라인의 처음, 끝과 매칭된다.\n",
    "2. `re.IGNORECASE`: 대소문자를 구별하지 않는다\n",
    "3. `re.DOTALL`: 마침표(`.`)를 개행문자로 포함시킨다.\n",
    "4. `re.VERBOSE`: 정규식에 주석을 추가할 수 있다."
   ]
  },
  {
   "cell_type": "markdown",
   "metadata": {},
   "source": [
    "### VERBOSE\n",
    "\n",
    "정규식을 줄 단위로 구분하고, 주석을 추가할 수 있다."
   ]
  },
  {
   "cell_type": "code",
   "execution_count": 19,
   "metadata": {},
   "outputs": [],
   "source": [
    "import re\n",
    "\n",
    "r = re.compile(r'&[#](0[0-7]+|[0-9]x[0-9a-fA-F]+);')\n",
    "\n",
    "verbose_r = re.compile(r\"\"\"\n",
    "&[#]                # strat of a numberic entity reference\n",
    "(                   \n",
    "    0[0-7]+         # Octal form\n",
    "    |[0-9]+         # Decimal form\n",
    "    |x[0-9a-fA-F]+  # Hexadecimal form\n",
    ")\n",
    ";                   # Trailing semicolon\n",
    "\"\"\", re.VERBOSE)"
   ]
  },
  {
   "cell_type": "markdown",
   "metadata": {},
   "source": [
    "### 여러 옵션 사용하기\n",
    "\n",
    "비트 연산자 or, `|`을 이용해서 옵션을 중첩시킬 수 있다."
   ]
  },
  {
   "cell_type": "code",
   "execution_count": 27,
   "metadata": {},
   "outputs": [
    {
     "output_type": "execute_result",
     "data": {
      "text/plain": "['ABCdef', 'abc']"
     },
     "metadata": {},
     "execution_count": 27
    }
   ],
   "source": [
    "import re\n",
    "\n",
    "string = 'ABCdef\\nabc\\nBBC'\n",
    "\n",
    "re.findall('^a.+', string, re.MULTILINE | re.IGNORECASE)"
   ]
  }
 ]
}